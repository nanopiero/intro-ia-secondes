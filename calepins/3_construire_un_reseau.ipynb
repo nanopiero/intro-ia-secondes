{
  "cells": [
    {
      "cell_type": "markdown",
      "id": "b1e4b37a",
      "metadata": {
        "id": "b1e4b37a"
      },
      "source": [
        "## Construire un réseau de neurones à la main"
      ]
    },
    {
      "cell_type": "markdown",
      "id": "P-DpLF4QdeYl",
      "metadata": {
        "id": "P-DpLF4QdeYl"
      },
      "source": [
        "Nous avons vu comment on préparait la donnée pour la mettre en entrée d'un réseau de neurones. Dans ce calepin, nous voyons par quels mécanismes un réseau de neurones peut parvenir à effectuer une tâche de classification. \\\n",
        "Pour bien comprendre, nous n'allons pas chercher à classer des images ou à traiter du texte : nous allons simplement chercher à classer des paires de réels.\n",
        "\n",
        "Mais avant, nous avons besoin de quelques imports :"
      ]
    },
    {
      "cell_type": "code",
      "execution_count": null,
      "id": "b88495c8",
      "metadata": {
        "id": "b88495c8"
      },
      "outputs": [],
      "source": [
        "# Pour tracer des courbes\n",
        "from matplotlib import pyplot as plt\n",
        "from matplotlib.pyplot import scatter as trace_point\n",
        "# Pour manipuler des tables\n",
        "import numpy as np\n",
        "# package pour le TD\n",
        "! git clone https://github.com/nanopiero/intro-ia-secondes.git\n",
        "\n",
        "import sys\n",
        "sys.path.append('intro-ia-secondes/utiles')\n",
        "from utile import *\n"
      ]
    },
    {
      "cell_type": "markdown",
      "id": "1b0dcd41",
      "metadata": {
        "id": "1b0dcd41"
      },
      "source": [
        "## Exercice n°1 : classification binaire, cas simple"
      ]
    },
    {
      "cell_type": "code",
      "execution_count": null,
      "id": "8wCWZ2X-kvXB",
      "metadata": {
        "id": "8wCWZ2X-kvXB"
      },
      "outputs": [],
      "source": [
        "# De cette manière on prélève un point (deux coordonnées réelles) et une classe (label) dans le jeu de données :\n",
        "point, label = preleve_element()\n",
        "print(point)\n",
        "print(label)"
      ]
    },
    {
      "cell_type": "code",
      "execution_count": null,
      "id": "n8uVVROglJ2a",
      "metadata": {
        "id": "n8uVVROglJ2a"
      },
      "outputs": [],
      "source": [
        "# De cette manière on forme une liste de cent points :\n",
        "colors = ['blue', 'red']\n",
        "\n",
        "\n",
        "# rouge : classe 1 bleu : classe 0\n",
        "\n",
        "for i in range(200):\n",
        "  point, label = preleve_element()\n",
        "  trace_point(point[0], point[1], color=colors[label])"
      ]
    },
    {
      "cell_type": "markdown",
      "id": "2xfDx9CQm8sw",
      "metadata": {
        "id": "2xfDx9CQm8sw"
      },
      "source": [
        "**Question n°1** Une fonction affine définie sur $\\mathcal{R}^2$, c'est une fonction de la forme :\n",
        "$$ f(x, y) = a . x + b . y + c $$\n",
        "\n",
        "Coder la fonction *F(x,y)* pour laquelle $a = 1$, $b = 1$ et $c = 0.5$.\n",
        "\n"
      ]
    },
    {
      "cell_type": "code",
      "execution_count": 39,
      "id": "H2lQfwuuo7-A",
      "metadata": {
        "id": "H2lQfwuuo7-A"
      },
      "outputs": [],
      "source": [
        "def F(x,y):\n",
        "\n",
        "  return ..."
      ]
    },
    {
      "cell_type": "markdown",
      "id": "NJcjn_tbpQnI",
      "metadata": {
        "id": "NJcjn_tbpQnI"
      },
      "source": [
        "**Question n°2** : Quelle est l'image par *F* de (0,0) ? De (1,4) ? De (-1,-1) ? \\\n",
        "*F* permet-elle d'atteindre la cible souvent ?"
      ]
    },
    {
      "cell_type": "code",
      "execution_count": null,
      "id": "mSWF8nc5rMtG",
      "metadata": {
        "id": "mSWF8nc5rMtG"
      },
      "outputs": [],
      "source": []
    },
    {
      "cell_type": "markdown",
      "id": "4dLs0dUOrJzf",
      "metadata": {
        "id": "4dLs0dUOrJzf"
      },
      "source": [
        "On se rappelle qu'un neurone, c'est une combinaison d'une fonction affine et d'une fonction non linéaire très simple.\n",
        "Prenons par exemple : \\\n",
        "$$ H: z \\rightarrow 0 \\text{  si  } z < 0 \\text{ ; }1 \\text{ sinon} $$.\n",
        "\n",
        "**Question n°3** : Quelle est sa courbe représentative ? Pourquoi cette fonction n'est-elle pas une fonction affine ?\n"
      ]
    },
    {
      "cell_type": "markdown",
      "id": "B-S0Xqngv0DM",
      "metadata": {
        "id": "B-S0Xqngv0DM"
      },
      "source": [
        "**Question n°4** : Coder la fonction *H* avec un test logique (\"*if then else*\"):"
      ]
    },
    {
      "cell_type": "code",
      "execution_count": null,
      "id": "dyEe-txHvzgU",
      "metadata": {
        "id": "dyEe-txHvzgU"
      },
      "outputs": [],
      "source": [
        "def H(z):\n",
        "\n",
        "  ...\n",
        "\n",
        "  return ..."
      ]
    },
    {
      "cell_type": "code",
      "execution_count": null,
      "id": "TDM5-L2ctdI1",
      "metadata": {
        "id": "TDM5-L2ctdI1"
      },
      "outputs": [],
      "source": [
        "# Notre premier neurone :\n",
        "def neurone1(x,y):\n",
        "  z = F1(x,y)\n",
        "  sortie = H(z)\n",
        "  return sortie"
      ]
    },
    {
      "cell_type": "markdown",
      "id": "Jyu1VEKetqMO",
      "metadata": {
        "id": "Jyu1VEKetqMO"
      },
      "source": [
        "**Question n°3** : Quelles sont les sorties associées aux entrées (0,0), (1,4) et (-1,-1) ?"
      ]
    },
    {
      "cell_type": "code",
      "execution_count": null,
      "id": "yFtGxD8UtpeI",
      "metadata": {
        "id": "yFtGxD8UtpeI"
      },
      "outputs": [],
      "source": []
    },
    {
      "cell_type": "markdown",
      "id": "gCgszV7ipze3",
      "metadata": {
        "id": "gCgszV7ipze3"
      },
      "source": [
        "**Question n°4** : Quel est l'ensemble des entrées pour lesquelles la valeur est 1 ? Pouvez-vous vous le représenter dans le plan ?"
      ]
    },
    {
      "cell_type": "markdown",
      "id": "KzDwfPUxw9IU",
      "metadata": {
        "id": "KzDwfPUxw9IU"
      },
      "source": [
        "**Question n°5** : Maintenant, le plus dur : pouvez-vous changer les poids de $F$ pour que la sortie de $neurone1$ soit le plus souvent égale au label ciblé ?   "
      ]
    },
    {
      "cell_type": "markdown",
      "id": "wOxAUdvuyHU0",
      "metadata": {
        "id": "wOxAUdvuyHU0"
      },
      "source": [
        "## **Exercice n°2** : pourquoi assembler plusieurs neurones ?"
      ]
    },
    {
      "cell_type": "markdown",
      "id": "uHlyoI681XGi",
      "metadata": {
        "id": "uHlyoI681XGi"
      },
      "source": [
        "**Question n°1** : Pouvez-vous placer 200 points tirés au hasard du deuxième jeu de données en utilisant la commande *preleve_element2()* ?  "
      ]
    },
    {
      "cell_type": "code",
      "execution_count": null,
      "id": "TwDMzWp9E1T6",
      "metadata": {
        "id": "TwDMzWp9E1T6"
      },
      "outputs": [],
      "source": [
        "point, label = preleve_element2()\n",
        "print(point)\n",
        "print(label)"
      ]
    },
    {
      "cell_type": "code",
      "execution_count": 50,
      "id": "D9oWakJvzDaS",
      "metadata": {
        "colab": {
          "base_uri": "https://localhost:8080/",
          "height": 430
        },
        "id": "D9oWakJvzDaS",
        "outputId": "256f430a-d57a-48e9-fce4-67f8905f825b"
      },
      "outputs": [
        {
          "data": {
            "image/png": "[encoded data removed]",
            "text/plain": [
              "<Figure size 640x480 with 1 Axes>"
            ]
          },
          "metadata": {},
          "output_type": "display_data"
        }
      ],
      "source": [
        "for i in range(200):\n",
        "  point, label = preleve_element2()\n",
        "  trace_point(point[0], point[1], color=colors[label])"
      ]
    },
    {
      "cell_type": "markdown",
      "id": "zuf450L7yrCL",
      "metadata": {
        "id": "zuf450L7yrCL"
      },
      "source": [
        "**Question n°2** : Pour quelle raison un neurone simple comme *neruone1* ne suffirait pas ?"
      ]
    },
    {
      "cell_type": "markdown",
      "id": "z7sy8ztW2Cdx",
      "metadata": {
        "id": "z7sy8ztW2Cdx"
      },
      "source": [
        "**Question n°3** : pouvez construire un réseau de neurones $z = reseau(x,y)$ tel que:\n",
        "- dans ce réseau, tous les neurones sont identiques à $neurone1$, excepté les poids des fonctions affines.\n",
        "- un neurone $i$ prend en entrée soit l'entrée du réseau $(x,y)$, soit $(z_j, z_k)$ où $z_j$ est la sortie neurone $j$ et $z_k$ est la sortie $z_k$ du neurone $k$.\n",
        "\n",
        "Tester votre code à l'aide d'une boucle *for*."
      ]
    },
    {
      "cell_type": "code",
      "execution_count": null,
      "id": "J7_YqBhNCc6c",
      "metadata": {
        "id": "J7_YqBhNCc6c"
      },
      "outputs": [],
      "source": []
    },
    {
      "cell_type": "code",
      "execution_count": null,
      "id": "a9zmKXqJChIL",
      "metadata": {
        "id": "a9zmKXqJChIL"
      },
      "outputs": [],
      "source": []
    },
    {
      "cell_type": "code",
      "execution_count": null,
      "id": "oyglQEXmCg1b",
      "metadata": {
        "id": "oyglQEXmCg1b"
      },
      "outputs": [],
      "source": []
    },
    {
      "cell_type": "markdown",
      "id": "q60ATcM0Chfj",
      "metadata": {
        "id": "q60ATcM0Chfj"
      },
      "source": [
        "**Bilan**\n",
        "* Les neurones les plus simples sont des combinaisons de fonctions affines et de fonctions non-linéaires très simples.\n",
        "* Dans le cas d'une classification binaire (classes '0' et '1') de couples de réels, la frontière de décision entre la classe '0' et la classe '1' est une droite.\n",
        "* Lorsque l'on ne peut pas résoudre le problème avec une frontière droite, on peut encore y arriver en combianant des neurones, mais ça se complique vite.\n",
        "* Le **deep learning**, ce sont des algorithmes qui permettent de **choisir automatiquement** les poids des neurones d'un très gros réseau de neurones.   "
      ]
    }
  ],
  "metadata": {
    "colab": {
      "provenance": []
    },
    "kernelspec": {
      "display_name": "Python 3 (ipykernel)",
      "language": "python",
      "name": "python3"
    },
    "language_info": {
      "codemirror_mode": {
        "name": "ipython",
        "version": 3
      },
      "file_extension": ".py",
      "mimetype": "text/x-python",
      "name": "python",
      "nbconvert_exporter": "python",
      "pygments_lexer": "ipython3",
      "version": "3.9.7"
    }
  },
  "nbformat": 4,
  "nbformat_minor": 5
}
