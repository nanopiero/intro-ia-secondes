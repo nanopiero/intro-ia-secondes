{
  "cells": [
    {
      "cell_type": "markdown",
      "metadata": {
        "id": "y8xmeHC8hDCd"
      },
      "source": [
        "## Introduction\n",
        "\n",
        "# I) Un peu de Vocabulaire :\n",
        "\n",
        "* **[Neurone](https://sketchfab.com/3d-models/un-reseau-de-cellules-nerveuses-a87a33a1f54c4ba0942217e3d37cc324) formel** :\n",
        "  C'est une fonction mathématique $y = f(x)$ \\\n",
        "  qui combine une fonction affine suivie d'une \"non linéarité\" très simple.\n",
        "\n",
        "  Exemple : \\\n",
        "  $ x \\rightarrow max(0 , 0.1 \\times x - 0.5) $"
      ]
    },
    {
      "cell_type": "markdown",
      "metadata": {
        "id": "_EUNZfl042Yv"
      },
      "source": [
        "* **Poids** d'un neurone (on parle aussi de \"paramètres\") :\n",
        "Ce sont les coefficients de la fonction affine. Ici $0.1$ et $-0.5$.\n",
        "\n",
        "* **Réseau** de neurones : \\\n",
        "Combinaison de neurones.\n",
        "\n",
        "* **Entrée** d'un réseau : \\\n",
        "Le $x$ donné aux premiers neurones du réseau.\\\n",
        "x peut être réel, un couple de nombres, un tableau de nombres (image), etc.\n",
        "\n",
        "* **Sortie** : \\\n",
        "Le $y$ en sortie des derniers neurones du réseau.\\\n",
        "$y$ aussi peut être un peu n'importe quoi : cela dépend de ce qu'on attend du réseau !\n",
        "\n",
        "* **Cible** : \\\n",
        "La valeur qu'on attend en sortie pour un $x$ donné.\n",
        "Pour l'obtenir sur le plus de $x$ possibles, il faut bien régler les poids.\n",
        "\n",
        "* **Apprentissage** : \\\n",
        "L'art de bien régler les poids à partir d'un jeu de données.\n",
        "\n",
        "* **Jeu de données** : \\\n",
        "Des couples (entrée, cible) sur lesquels on règle les poids des neurones du réseau.\n"
      ]
    },
    {
      "cell_type": "markdown",
      "metadata": {
        "id": "PX_gqQgNmz_J"
      },
      "source": [
        "# II) Réseaux de neurones : quelques dates\n"
      ]
    },
    {
      "cell_type": "markdown",
      "metadata": {
        "id": "_CACBFsndOCo"
      },
      "source": [
        "* 1950's : Apprentissage d'un neurone unique\n",
        "\n",
        "* 1998 : Premiers réseaux efficaces. http://yann.lecun.com/exdb/lenet/index.html\n",
        "\n",
        "* 2009 : Le projet ImageNet. https://www.image-net.org/index.php \\\n",
        "\n",
        "* 2012 : Le challenge ILSVRC.  https://www.image-net.org/challenges/LSVRC/2012/index.php\n",
        "    \n",
        "    - entrées : images d'objets\n",
        "    - cibles : numéro de la classe de l'objet\n",
        "\n",
        "* 2015 : ResNet https://arxiv.org/abs/1512.03385\n",
        "\n",
        "* 2017 : Transformers - Attention is all you need https://www.youtube.com/watch?v=dsxtImDVMig"
      ]
    },
    {
      "cell_type": "markdown",
      "metadata": {
        "id": "DsPG1-CZwwS1"
      },
      "source": [
        "## III) L'état de l'art"
      ]
    },
    {
      "cell_type": "markdown",
      "metadata": {
        "id": "V2RY5xKkxEDl"
      },
      "source": [
        "* Pour lire : https://paperswithcode.com/ \\\n",
        "  - dans le classement sur le jeu ImageNet, on retrouve ResNet\n",
        "  - le score donnée sur la figure est le \"top-1 accuracy\"\n",
        "\n",
        "* Pour pratiquer : https://huggingface.co/"
      ]
    }
  ],
  "metadata": {
    "accelerator": "GPU",
    "colab": {
      "provenance": []
    },
    "gpuClass": "standard",
    "kernelspec": {
      "display_name": "Python 3",
      "name": "python3"
    }
  },
  "nbformat": 4,
  "nbformat_minor": 0
}
