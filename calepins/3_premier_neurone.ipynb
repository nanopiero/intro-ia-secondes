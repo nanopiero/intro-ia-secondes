{
  "cells": [
    {
      "cell_type": "markdown",
      "id": "b1e4b37a",
      "metadata": {
        "id": "b1e4b37a"
      },
      "source": [
        "## De vrais réseaux de neurones"
      ]
    },
    {
      "cell_type": "markdown",
      "source": [
        "Nous avons vu comment on préparait la donnée pour la mettre en entrée d'un réseau de neurones. Dans ce calepin, nous voyons par quels mécanismes un réseau de neurones peut parvenir à effectuer une tâche. \\\n",
        "Pour bien comprendre, nous n'allons pas chercher à classer des images ou à traiter du texte : nous allons simplement chercher à classer des paires de réels.\n",
        "\n",
        "Mais avant, nous avons besoin de quelques imports :"
      ],
      "metadata": {
        "id": "P-DpLF4QdeYl"
      },
      "id": "P-DpLF4QdeYl"
    },
    {
      "cell_type": "code",
      "execution_count": 18,
      "id": "b88495c8",
      "metadata": {
        "colab": {
          "base_uri": "https://localhost:8080/"
        },
        "id": "b88495c8",
        "outputId": "b7999bbe-88fe-48b5-93e8-c59c7cfc8aa5"
      },
      "outputs": [
        {
          "output_type": "execute_result",
          "data": {
            "text/plain": [
              "<torch._C.Generator at 0x781c1409e230>"
            ]
          },
          "metadata": {},
          "execution_count": 18
        }
      ],
      "source": [
        "# Pour tracer des courbes\n",
        "from matplotlib import pyplot as plt\n",
        "from matplotlib.pyplot import scatter as trace_point\n",
        "# Pour manipuler des tables\n",
        "import numpy as np\n",
        "# package pour le TD\n",
        "! git clone https://github.com/nanopiero/intro-ia-secondes.git\n",
        "\n",
        "import sys\n",
        "sys.path.append('intro-ia-secondes/utiles')\n",
        "from utile import *\n"
      ]
    },
    {
      "cell_type": "markdown",
      "id": "1b0dcd41",
      "metadata": {
        "id": "1b0dcd41"
      },
      "source": [
        "## Exercice n°1 : classification binaire, cas simple"
      ]
    },
    {
      "cell_type": "code",
      "source": [
        "def preleve_element():\n",
        "  label = torch.randint(0,2, (1,))\n",
        "  x = 2*label - 1\n",
        "  moyenne = torch.tensor((x, x))\n",
        "  point = moyenne + 0.65 * torch.randn(2)\n",
        "  return point.numpy(), label.item()\n",
        "\n",
        "def preleve_element2():\n",
        "  label = torch.randint(0,2, (1,))\n",
        "  std = 0.45\n",
        "\n",
        "  if label == 0 :\n",
        "    rand2 = 2 * torch.randint(0,2, (1,)) - 1\n",
        "    moyenne = torch.tensor((rand2, rand2))\n",
        "    point = moyenne + std * torch.randn(2)\n",
        "  else :\n",
        "    x = 2*label - 1\n",
        "    rand2 = 2 * torch.randint(0,2, (1,)) - 1\n",
        "    moyenne = torch.tensor((rand2, -1 * rand2))\n",
        "    point = moyenne + std * torch.randn(2)\n",
        "\n",
        "  return point.numpy(), label.item()"
      ],
      "metadata": {
        "id": "r1uRh-rkjvhj"
      },
      "id": "r1uRh-rkjvhj",
      "execution_count": 44,
      "outputs": []
    },
    {
      "cell_type": "code",
      "source": [
        "# De cette manière on prélève un point dans le jeu de données :\n",
        "point, label = preleve_element()"
      ],
      "metadata": {
        "id": "8wCWZ2X-kvXB"
      },
      "id": "8wCWZ2X-kvXB",
      "execution_count": null,
      "outputs": []
    },
    {
      "cell_type": "code",
      "source": [
        "# De cette manière on forme une liste de cent points :\n",
        "colors = ['blue', 'red']\n",
        "\n",
        "\n",
        "# rouge : classe 1 bleu : classe 0\n",
        "\n",
        "for i in range(200):\n",
        "  point, label = preleve_element()\n",
        "  trace_point(point[0], point[1], color=colors[label])"
      ],
      "metadata": {
        "id": "n8uVVROglJ2a",
        "outputId": "1ba38fd2-69a8-4860-a1ca-a26a5a4f23f9",
        "colab": {
          "base_uri": "https://localhost:8080/",
          "height": 430
        }
      },
      "id": "n8uVVROglJ2a",
      "execution_count": 54,
      "outputs": [
        {
          "output_type": "display_data",
          "data": {
            "text/plain": [
              "<Figure size 640x480 with 1 Axes>"
            ],
            "image/png": "[encoded data removed]"
          },
          "metadata": {}
        }
      ]
    },
    {
      "cell_type": "markdown",
      "source": [
        "**Question n°1** Une fonction affine définie sur $\\mathcal{R}^2$, c'est une fonction de la forme :\n",
        "$$ f(x, y) = a . x + b . y + c $$\n",
        "\n",
        "Coder la fonction *F(x,y)* pour laquelle $a = 1$, $b = 1$ et $c = 0.5$.\n",
        "\n"
      ],
      "metadata": {
        "id": "2xfDx9CQm8sw"
      },
      "id": "2xfDx9CQm8sw"
    },
    {
      "cell_type": "code",
      "source": [
        "def F(x,y):\n",
        "\n",
        "  return ..."
      ],
      "metadata": {
        "id": "H2lQfwuuo7-A"
      },
      "id": "H2lQfwuuo7-A",
      "execution_count": 39,
      "outputs": []
    },
    {
      "cell_type": "markdown",
      "source": [
        "**Question n°2** : Quelle est l'image par *F* de (0,0) ? De (1,4) ? De (-1,-1) ? \\\n",
        "*F* permet-elle d'atteindre la cible souvent ?"
      ],
      "metadata": {
        "id": "NJcjn_tbpQnI"
      },
      "id": "NJcjn_tbpQnI"
    },
    {
      "cell_type": "code",
      "source": [],
      "metadata": {
        "id": "mSWF8nc5rMtG"
      },
      "id": "mSWF8nc5rMtG",
      "execution_count": null,
      "outputs": []
    },
    {
      "cell_type": "markdown",
      "source": [
        "On se rappelle qu'un neurone, c'est une combinaison d'une fonction affine et d'une fonction non linéaire très simple.\n",
        "Prenons par exemple : \\\n",
        "$$ H: z \\rightarrow 0 \\text{  si  } z < 0 \\text{ ; }1 \\text{ sinon} $$.\n",
        "\n",
        "**Question n°3** : Quelle est sa courbe représentative ? Pourquoi cette fonction n'est-elle pas une fonction affine ?\n"
      ],
      "metadata": {
        "id": "4dLs0dUOrJzf"
      },
      "id": "4dLs0dUOrJzf"
    },
    {
      "cell_type": "markdown",
      "source": [
        "**Question n°4** : Coder la fonction *H* avec un test logique (\"*if then else*\"):"
      ],
      "metadata": {
        "id": "B-S0Xqngv0DM"
      },
      "id": "B-S0Xqngv0DM"
    },
    {
      "cell_type": "code",
      "source": [
        "def H(z):\n",
        "\n",
        "  ...\n",
        "\n",
        "  return ..."
      ],
      "metadata": {
        "id": "dyEe-txHvzgU"
      },
      "id": "dyEe-txHvzgU",
      "execution_count": null,
      "outputs": []
    },
    {
      "cell_type": "code",
      "source": [
        "# Notre premier neurone :\n",
        "def neurone1(x,y):\n",
        "  z = F1(x,y)\n",
        "  sortie = H(z)\n",
        "  return sortie"
      ],
      "metadata": {
        "id": "TDM5-L2ctdI1"
      },
      "id": "TDM5-L2ctdI1",
      "execution_count": null,
      "outputs": []
    },
    {
      "cell_type": "markdown",
      "source": [
        "**Question n°3** : Quelles sont les sorties associées aux entrées (0,0), (1,4) et (-1,-1) ?"
      ],
      "metadata": {
        "id": "Jyu1VEKetqMO"
      },
      "id": "Jyu1VEKetqMO"
    },
    {
      "cell_type": "code",
      "source": [],
      "metadata": {
        "id": "yFtGxD8UtpeI"
      },
      "id": "yFtGxD8UtpeI",
      "execution_count": null,
      "outputs": []
    },
    {
      "cell_type": "markdown",
      "source": [
        "**Question n°4** : Quel est l'ensemble des entrées pour lesquelles la valeur est 1 ? Pouvez-vous vous le représenter dans le plan ?"
      ],
      "metadata": {
        "id": "gCgszV7ipze3"
      },
      "id": "gCgszV7ipze3"
    },
    {
      "cell_type": "markdown",
      "source": [
        "**Question n°5** : Maintenant, le plus dur : pouvez-vous changer les poids de $F$ pour que la sortie de $neurone1$ soit le plus souvent égale au label ciblé ?   "
      ],
      "metadata": {
        "id": "KzDwfPUxw9IU"
      },
      "id": "KzDwfPUxw9IU"
    },
    {
      "cell_type": "markdown",
      "source": [
        "## **Exercice n°2** : pourquoi assembler plusieurs neurones ?"
      ],
      "metadata": {
        "id": "wOxAUdvuyHU0"
      },
      "id": "wOxAUdvuyHU0"
    },
    {
      "cell_type": "markdown",
      "source": [
        "**Question n°1** : Pouvez-vous placer 200 points tirés au hasard du deuxième jeu de données en utilisant la commande *preleve_element2()* ?  "
      ],
      "metadata": {
        "id": "uHlyoI681XGi"
      },
      "id": "uHlyoI681XGi"
    },
    {
      "cell_type": "code",
      "source": [
        "for i in range(200):\n",
        "  point, label = preleve_element2()\n",
        "  trace_point(point[0], point[1], color=colors[label])"
      ],
      "metadata": {
        "id": "D9oWakJvzDaS",
        "outputId": "256f430a-d57a-48e9-fce4-67f8905f825b",
        "colab": {
          "base_uri": "https://localhost:8080/",
          "height": 430
        }
      },
      "id": "D9oWakJvzDaS",
      "execution_count": 50,
      "outputs": [
        {
          "output_type": "display_data",
          "data": {
            "text/plain": [
              "<Figure size 640x480 with 1 Axes>"
            ],
            "image/png": "[encoded data removed]"
          },
          "metadata": {}
        }
      ]
    },
    {
      "cell_type": "markdown",
      "source": [
        "**Question n°2** : Pour quelle raison un neurone simple comme *neruone1* ne suffirait pas ?"
      ],
      "metadata": {
        "id": "zuf450L7yrCL"
      },
      "id": "zuf450L7yrCL"
    },
    {
      "cell_type": "markdown",
      "source": [
        "**Question n°3** : pouvez construire un réseau de neurones $z = reseau(x,y)$ tel que:\n",
        "- dans ce réseau, tous les neurones sont identiques à $neurone1$, excepté les poids des fonctions affines.\n",
        "- un neurone $i$ prend en entrée soit l'entrée du réseau $(x,y)$, soit $(z_j, z_k)$ où $z_j$ est la sortie neurone $j$ et $z_k$ est la sortie $z_k$ du neurone $k$.\n",
        "\n",
        "Tester votre code à l'aide d'une boucle *for*."
      ],
      "metadata": {
        "id": "z7sy8ztW2Cdx"
      },
      "id": "z7sy8ztW2Cdx"
    },
    {
      "cell_type": "code",
      "source": [],
      "metadata": {
        "id": "J7_YqBhNCc6c"
      },
      "id": "J7_YqBhNCc6c",
      "execution_count": null,
      "outputs": []
    },
    {
      "cell_type": "code",
      "source": [],
      "metadata": {
        "id": "a9zmKXqJChIL"
      },
      "id": "a9zmKXqJChIL",
      "execution_count": null,
      "outputs": []
    },
    {
      "cell_type": "code",
      "source": [],
      "metadata": {
        "id": "oyglQEXmCg1b"
      },
      "id": "oyglQEXmCg1b",
      "execution_count": null,
      "outputs": []
    },
    {
      "cell_type": "markdown",
      "source": [
        "**Bilan**\n",
        "* Les neurones les plus simples sont des combinaisons de fonctions affines et de fonctions non-linéaires très simples.\n",
        "* Dans le cas d'une classification binaire (classes '0' et '1') de couples de réels, la frontière de décision entre la classe '0' et la classe '1' est une droite.\n",
        "* Lorsque l'on ne peut pas résoudre le problème avec une frontière droite, on peut encore y arriver en combianant des neurones, mais ça se complique vite.\n",
        "* Le **deep learning**, ce sont des algorithmes qui permettent de **choisir automatiquement** les poids des neurones d'un très gros réseau de neurones.   "
      ],
      "metadata": {
        "id": "q60ATcM0Chfj"
      },
      "id": "q60ATcM0Chfj"
    }
  ],
  "metadata": {
    "colab": {
      "provenance": []
    },
    "kernelspec": {
      "display_name": "Python 3 (ipykernel)",
      "language": "python",
      "name": "python3"
    },
    "language_info": {
      "codemirror_mode": {
        "name": "ipython",
        "version": 3
      },
      "file_extension": ".py",
      "mimetype": "text/x-python",
      "name": "python",
      "nbconvert_exporter": "python",
      "pygments_lexer": "ipython3",
      "version": "3.9.7"
    }
  },
  "nbformat": 4,
  "nbformat_minor": 5
}