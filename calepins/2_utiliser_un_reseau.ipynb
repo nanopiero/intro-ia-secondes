{
  "cells": [
    {
      "cell_type": "markdown",
      "metadata": {
        "id": "XptqD6dlSznc"
      },
      "source": [
        "# Utiliser un réseau de neurones\n",
        "\n",
        "Pour passer en entrée d'un réseau de neurones une image ou un texte, il faut le représenter sous la forme d'une table de nombres. \\\n",
        "Les trois premiers exercices permettent de découvrir ce format.\n",
        "Dans les deux derniers, on applique des réseaux de neurones à des images et à des textes mis au bon format.\n",
        "\n",
        "Mais avant, nous avons besoin :\n",
        "- de charger le répertoire git du TD sur colab\n",
        "- d'importer les fonctions qui nous serons utiles"
      ]
    },
    {
      "cell_type": "code",
      "execution_count": null,
      "metadata": {
        "id": "XxrflV6STD48"
      },
      "outputs": [],
      "source": [
        "# package pour le TD\n",
        "! git clone https://github.com/nanopiero/intro-ia-secondes.git"
      ]
    },
    {
      "cell_type": "code",
      "execution_count": null,
      "metadata": {
        "id": "KLo9_xrsx-0M"
      },
      "outputs": [],
      "source": [
        "# package pour le traitement du langage\n",
        "! pip install datasets evaluate transformers[sentencepiece]"
      ]
    },
    {
      "cell_type": "code",
      "execution_count": null,
      "metadata": {
        "id": "HjRYmA4mo1IZ"
      },
      "outputs": [],
      "source": [
        "import sys\n",
        "sys.path.append('intro-ia-secondes/utiles')\n",
        "from utile import *\n",
        "from transformers import pipeline"
      ]
    },
    {
      "cell_type": "markdown",
      "metadata": {
        "id": "KmNCXnWdIgk3"
      },
      "source": [
        "## **Exercice n°1** : manipulation de tables de nombres"
      ]
    },
    {
      "cell_type": "code",
      "execution_count": null,
      "metadata": {
        "id": "yiXxKfZCKbse"
      },
      "outputs": [],
      "source": [
        "# Commande table : définition d'une ligne de nombres\n",
        "a = table([1,2,3,4])\n",
        "print(a)"
      ]
    },
    {
      "cell_type": "code",
      "execution_count": null,
      "metadata": {
        "id": "lwiYZ-4KOCSm"
      },
      "outputs": [],
      "source": [
        "# Commande table : définition d'une table de nombres\n",
        "b = table([[1,2],[3,4]])\n",
        "print(b)"
      ]
    },
    {
      "cell_type": "code",
      "execution_count": null,
      "metadata": {
        "id": "j0dtH0OoOKWO"
      },
      "outputs": [],
      "source": [
        "# sommes et produit de deux tables de nombres:\n",
        "print(b + b)\n",
        "# print(1 + b)\n",
        "# print(4 - b)\n",
        "# print(b*b)\n"
      ]
    },
    {
      "cell_type": "code",
      "execution_count": null,
      "metadata": {
        "id": "RZUVy2mILNq_"
      },
      "outputs": [],
      "source": [
        "# Commande \"repete\" :\n",
        "c = repete(a, 3) # 3 fois\n",
        "print(c)"
      ]
    },
    {
      "cell_type": "code",
      "execution_count": null,
      "metadata": {
        "id": "TQ_kB1yoOf6e"
      },
      "outputs": [],
      "source": [
        "# Commande \"transpose\" :\n",
        "d = transpose(c) # échange les lignes et les colonnes\n",
        "print(d)"
      ]
    },
    {
      "cell_type": "code",
      "execution_count": null,
      "metadata": {
        "id": "cq6F-16afl28"
      },
      "outputs": [],
      "source": [
        "# commande suite_arithmetique:\n",
        "n = 10\n",
        "e = suite_arithmetique(n)\n",
        "\n",
        "print(e)"
      ]
    },
    {
      "cell_type": "markdown",
      "metadata": {
        "id": "i8dapNNSOffu"
      },
      "source": [
        "**Question n°1** : A partir des exemples ci-dessus, construire la table d'addition et la table de multiplication des nombres de 0 à 20."
      ]
    },
    {
      "cell_type": "code",
      "execution_count": null,
      "metadata": {
        "id": "9BlkiufdRaVU"
      },
      "outputs": [],
      "source": []
    },
    {
      "cell_type": "markdown",
      "metadata": {
        "id": "iT-2-refa52X"
      },
      "source": [
        "## **Exercice n°2** : une image en noir et blanc"
      ]
    },
    {
      "cell_type": "markdown",
      "metadata": {
        "id": "cpDaUMhQyU6z"
      },
      "source": [
        "Dans cet exercice, on retrouve le jeu d'images de chiffres manuscrits (MNIST) sur lequel\n",
        "a travaillé Yann Lecun, l'un des \"pères fondateurs\" du Deep Learning."
      ]
    },
    {
      "cell_type": "code",
      "execution_count": null,
      "metadata": {
        "id": "qajZt0ZIbo4P"
      },
      "outputs": [],
      "source": [
        "# commande preleve_image_MNIST : prélève la n ième image de MNIST\n",
        "# et la cible correspondante (label)\n",
        "\n",
        "image, label = preleve_image_MNIST(46) # c'est une image de taille 28 x 28\n",
        "\n",
        "print(label)\n",
        "afficher(image)"
      ]
    },
    {
      "cell_type": "markdown",
      "metadata": {
        "id": "CCaYEDjahRC8"
      },
      "source": [
        "**Question n°1** : Avec une boucle *for*, appliquer *preleve_image_MNIST* pour afficher les 100 premières cibles. Afficher l'image d'un sept."
      ]
    },
    {
      "cell_type": "code",
      "execution_count": null,
      "metadata": {
        "id": "A377MXNziPws"
      },
      "outputs": [],
      "source": []
    },
    {
      "cell_type": "markdown",
      "metadata": {
        "id": "zkPEYFzBifQV"
      },
      "source": [
        "**Question n°2** : Pouvez-vous afficher un 7 noir sur fond blanc ?"
      ]
    },
    {
      "cell_type": "code",
      "execution_count": null,
      "metadata": {
        "id": "xStsa4nDiDvM"
      },
      "outputs": [],
      "source": []
    },
    {
      "cell_type": "markdown",
      "metadata": {
        "id": "OcsMD2l-hVIm"
      },
      "source": [
        "**Question n°3** : Pouvez-vous construire une image du symbole $\\infty$ ? Et une image du nombre 88 ?"
      ]
    },
    {
      "cell_type": "code",
      "execution_count": null,
      "metadata": {
        "id": "sZzR-zp5kkzq"
      },
      "outputs": [],
      "source": []
    },
    {
      "cell_type": "markdown",
      "metadata": {
        "id": "A2RKBqeZID7w"
      },
      "source": [
        "## **Exercice n°3** : une image couleur"
      ]
    },
    {
      "cell_type": "code",
      "execution_count": null,
      "metadata": {
        "id": "C--bszO5TAjD"
      },
      "outputs": [],
      "source": [
        "# Commande ouvrir et commande afficher :\n",
        "chemin_image = 'intro-ia-secondes/images/Carabus.jpg'\n",
        "image = ouvrir(chemin_image)\n",
        "\n",
        "afficher(image)"
      ]
    },
    {
      "cell_type": "code",
      "execution_count": null,
      "metadata": {
        "id": "tCsjyszHWOOh"
      },
      "outputs": [],
      "source": [
        "# C'est une image RGB :\n",
        "\n",
        "print(image[0]) # table des Rouges\n",
        "# print(image[1]) # table des Verts\n",
        "# print(image[2]) # table des Bleus"
      ]
    },
    {
      "cell_type": "code",
      "execution_count": null,
      "metadata": {
        "id": "G630CHD3XxjJ"
      },
      "outputs": [],
      "source": [
        "# Transposition du canal des rouges :\n",
        "image[0] = transpose(image[0])\n",
        "afficher(image)"
      ]
    },
    {
      "cell_type": "markdown",
      "metadata": {
        "id": "taomDSlDvaGt"
      },
      "source": [
        "**Question n° 1** : Au lieu de transposer le canal des rouges, pouvez-vous supprimer le canal des rouges ?"
      ]
    },
    {
      "cell_type": "code",
      "execution_count": null,
      "metadata": {
        "id": "1rtkXKG9Xc-p"
      },
      "outputs": [],
      "source": []
    },
    {
      "cell_type": "markdown",
      "metadata": {
        "id": "cThRllbXRzZV"
      },
      "source": [
        "**Question n° 2** : Pouvez-vous au contraire, n'afficher que le canal des rouges ?"
      ]
    },
    {
      "cell_type": "code",
      "execution_count": null,
      "metadata": {
        "id": "jecO4mCBRyBs"
      },
      "outputs": [],
      "source": []
    },
    {
      "cell_type": "markdown",
      "metadata": {
        "id": "wPQtuLG6wC2N"
      },
      "source": [
        "**Question n°3** : Pouvez-vous transformer l'image RGB en une image en noir et blanc ?"
      ]
    },
    {
      "cell_type": "code",
      "execution_count": null,
      "metadata": {
        "id": "O3KyE7AgVaPT"
      },
      "outputs": [],
      "source": []
    },
    {
      "cell_type": "markdown",
      "metadata": {
        "id": "6KGpCghIzqPk"
      },
      "source": [
        "## **Exercice n°4** : passer une image en entrée d'un \"très gros réseau\""
      ]
    },
    {
      "cell_type": "markdown",
      "metadata": {
        "id": "Dyjbcvhf1BdL"
      },
      "source": [
        "Maintenant que la représentation numérique d'une image sous forme de tables de nombres est bien comprise, voyons comment on applique un gros réseau de neurones dessus pour de la classification."
      ]
    },
    {
      "cell_type": "code",
      "execution_count": null,
      "metadata": {
        "id": "6CwoxMaS1XAC"
      },
      "outputs": [],
      "source": [
        "# chargeons un modèle :\n",
        "from torchvision import models, transforms\n",
        "model = models.vgg16(pretrained=True)"
      ]
    },
    {
      "cell_type": "code",
      "execution_count": null,
      "metadata": {
        "id": "HGlZkD_G25ty"
      },
      "outputs": [],
      "source": [
        "# Voyons sous le capot :\n",
        "print(model)"
      ]
    },
    {
      "cell_type": "markdown",
      "metadata": {
        "id": "uGGKA22v3I4a"
      },
      "source": [
        "**Question n°1** : A votre avis, quoi correspondent le premier chiffre (3) et le dernier chiffre visible (1000) ?"
      ]
    },
    {
      "cell_type": "markdown",
      "metadata": {
        "id": "LW8antTP34NR"
      },
      "source": []
    },
    {
      "cell_type": "markdown",
      "metadata": {
        "id": "Yss6hwpO3675"
      },
      "source": [
        "**Question n°2** : Le VGG est fourni par la bibliothèque pytorch. Pouvez-vous compter le nombre de poids du réseau facilement ?"
      ]
    },
    {
      "cell_type": "code",
      "execution_count": null,
      "metadata": {
        "colab": {
          "base_uri": "https://localhost:8080/"
        },
        "id": "dswgF47x6fRQ",
        "outputId": "f1c6f7e4-8d66-4962-9772-56e3da9302b2"
      },
      "outputs": [
        {
          "name": "stdout",
          "output_type": "stream",
          "text": [
            "Total Parameters: 138357544\n"
          ]
        }
      ],
      "source": [
        "# Utiliser Gemini"
      ]
    },
    {
      "cell_type": "markdown",
      "metadata": {
        "id": "g6HIaoFn3aox"
      },
      "source": [
        "**Question n°3** : Reprenons la table \"image\" obtenue à partir de Carabus.jpg. Elle est au format numpy.array. Essayer de la donner en entrée du réseau et d'obtenir la classe la plus probable. \\\n",
        "\n",
        "**NB** : La liste des classes est disponible [ici](https://gist.github.com/yrevar/942d3a0ac09ec9e5eb3a)."
      ]
    },
    {
      "cell_type": "code",
      "execution_count": null,
      "metadata": {
        "id": "SAf8QP_T7wKv"
      },
      "outputs": [],
      "source": [
        "chemin_image = 'intro-ia-secondes/images/Carabus.jpg'\n",
        "image = ouvrir(chemin_image)"
      ]
    },
    {
      "cell_type": "code",
      "execution_count": null,
      "metadata": {
        "id": "okVUv4sRSYKE"
      },
      "outputs": [],
      "source": []
    },
    {
      "cell_type": "markdown",
      "metadata": {
        "id": "DDwi1I_Y-IqG"
      },
      "source": [
        "**Question n°4** : Pouvez-vous donner la seconde classe la plus probable ?"
      ]
    },
    {
      "cell_type": "code",
      "execution_count": null,
      "metadata": {
        "id": "yZXNLwTf-HS_"
      },
      "outputs": [],
      "source": []
    },
    {
      "cell_type": "markdown",
      "metadata": {
        "id": "L-bulQPqRfnW"
      },
      "source": [
        "**Question n°5** : Si l'on perd ou si l'on transpose un canal, le réseau s'en sort-il toujours ?"
      ]
    },
    {
      "cell_type": "code",
      "execution_count": null,
      "metadata": {
        "id": "YeSSEApSSY0M"
      },
      "outputs": [],
      "source": []
    },
    {
      "cell_type": "markdown",
      "metadata": {
        "id": "QcimwLZbSF_K"
      },
      "source": [
        "## **Exercice n°5** : Tokeniser un texte avant de le traduire."
      ]
    },
    {
      "cell_type": "markdown",
      "metadata": {
        "id": "472K4YmTxDst"
      },
      "source": [
        "Maintenant, voyons la façon dont sont numérisés les textes avant d'être donnés en entrée d'un réseau de neurone comme GPT ou autre (ici : le modèle [Helsinki-NLP](https://huggingface.co/Helsinki-NLP)). L'idée est de découper chaque phrase en éléments de bases qui sont chacun associé à un nombre entier. On parle de \"tokénisation\"."
      ]
    },
    {
      "cell_type": "code",
      "execution_count": null,
      "metadata": {
        "id": "HFS9ybOFIR0Y"
      },
      "outputs": [],
      "source": [
        "# On charge le traducteur complet et on définit le tokeniseur, le modèle et un detokeniseur\n",
        "# qui permet de repasser d'une suite de token à une phrase :\n",
        "traducteur = pipeline(\"translation\", model=\"Helsinki-NLP/opus-mt-fr-en\")\n",
        "\n",
        "tokeniseur = lambda texte : traducteur.tokenizer(texte, return_tensors='pt')['input_ids']\n",
        "detokeniseur = lambda tokens : traducteur.tokenizer.batch_decode(tokens, skip_special_tokens=True)[0]\n",
        "reseau = lambda tokens : traducteur.model.eval().generate(tokens)"
      ]
    },
    {
      "cell_type": "code",
      "execution_count": null,
      "metadata": {
        "id": "9Uu9rJGrM6N_"
      },
      "outputs": [],
      "source": [
        "a = \"Question 1 : \\n | Des entrées      différentes | \\n | peuvent-elles conduire | \\n | aux mêmes tokens ?| \"\n",
        "print(a)\n",
        "print(tokeniseur(a))\n",
        "print(detokeniseur(tokeniseur(a)))\n",
        "print(tokeniseur(detokeniseur(tokeniseur(a))))"
      ]
    },
    {
      "cell_type": "code",
      "execution_count": null,
      "metadata": {
        "id": "spJBTa_WLaYD"
      },
      "outputs": [],
      "source": [
        "# Le tokeniseur prend en entrée une phrase, et fournit en sortie une suite de nombres :\n",
        "\n",
        "tokeniseur(\"Question 2 : quel est l'élément de texte associé au token n°99 ?\")"
      ]
    },
    {
      "cell_type": "code",
      "execution_count": null,
      "metadata": {
        "id": "bisYWvvIT0rM"
      },
      "outputs": [],
      "source": [
        "tokeniseur(\"Question 3 : un token peut-il correspondre à un mot entier ?\")"
      ]
    },
    {
      "cell_type": "markdown",
      "metadata": {
        "id": "w6JCxhGXOXU_"
      },
      "source": [
        "Pour traduire un texte en anglais, il suffit de fournir la suite de tokens au modèle.\n",
        "Par exemple :"
      ]
    },
    {
      "cell_type": "code",
      "execution_count": null,
      "metadata": {
        "id": "tPELo9VuJ7EJ"
      },
      "outputs": [],
      "source": [
        "tokens = tokeniseur(\"Question 4 : pour un input donné, le modèle répond-il toujours la même chose ?\")\n",
        "new_tokens = reseau(tokens)\n",
        "traduction = detokeniseur(new_tokens)\n",
        "\n",
        "print(traduction)"
      ]
    },
    {
      "cell_type": "markdown",
      "metadata": {
        "id": "jAjPR14IMkho"
      },
      "source": [
        "**Question 5**: Pouvez-vous faire boguer ce traducteur ?"
      ]
    },
    {
      "cell_type": "markdown",
      "metadata": {
        "id": "lkW74KENQT2-"
      },
      "source": [
        "**Bilan**\n",
        "* Les réseaux de neurones actuels peuvent prendre en entrée des images ou des textes représentés par des tables ou des suites de nombres.\n",
        "* Par exemple, une image RGB est un empilement de trois tables : la première contient les intensités associées au rouge, la seconde, celles au vert et la troisième au bleu.\n",
        "* Une tokénisation est une manière de nettoyer, puis de découper un texte en éléments de petite taille et enfin d'associer chaque élément à un entier. En général, ces éléments sont plus petits que des mots mais plus longs que de simples caractères."
      ]
    }
  ],
  "metadata": {
    "accelerator": "GPU",
    "colab": {
      "provenance": []
    },
    "gpuClass": "standard",
    "kernelspec": {
      "display_name": "Python 3",
      "name": "python3"
    }
  },
  "nbformat": 4,
  "nbformat_minor": 0
}
