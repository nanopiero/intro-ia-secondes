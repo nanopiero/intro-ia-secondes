{
  "nbformat": 4,
  "nbformat_minor": 0,
  "metadata": {
    "colab": {
      "provenance": []
    },
    "kernelspec": {
      "name": "python3",
      "display_name": "Python 3"
    },
    "accelerator": "GPU",
    "gpuClass": "standard"
  },
  "cells": [
    {
      "cell_type": "markdown",
      "source": [
        "# Numérisation\n",
        "\n",
        "Pour présenter en entrée d'une fonction une image (ou un texte), il faut pouvoir le représenter sous forme numérique. \\\n",
        "Cette série de cinq exercices permet de préciser cette forme.\n",
        "\n",
        "Mais avant, nous avons besoin :\n",
        "- de charger le répertoire git du TD sur colab\n",
        "- d'importer les fonctions qui nous serons utiles"
      ],
      "metadata": {
        "id": "XptqD6dlSznc"
      }
    },
    {
      "cell_type": "code",
      "source": [
        "# package pour le TD\n",
        "! git clone https://github.com/nanopiero/intro-ia-secondes.git"
      ],
      "metadata": {
        "id": "XxrflV6STD48"
      },
      "execution_count": null,
      "outputs": []
    },
    {
      "cell_type": "code",
      "source": [
        "# package pour le traitement du langage\n",
        "! pip install datasets evaluate transformers[sentencepiece]"
      ],
      "metadata": {
        "id": "KLo9_xrsx-0M"
      },
      "execution_count": null,
      "outputs": []
    },
    {
      "cell_type": "code",
      "source": [
        "import sys\n",
        "sys.path.append('intro-ia-secondes/utiles')\n",
        "from utile import *\n",
        "from transformers import pipeline"
      ],
      "metadata": {
        "id": "HjRYmA4mo1IZ"
      },
      "execution_count": 3,
      "outputs": []
    },
    {
      "cell_type": "markdown",
      "source": [
        "## **Exercice n°1** Manipulation de tables de nombres"
      ],
      "metadata": {
        "id": "KmNCXnWdIgk3"
      }
    },
    {
      "cell_type": "code",
      "source": [
        "# Commande table : définition d'une ligne de nombres\n",
        "a = table([1,2,3,4])\n",
        "print(a)"
      ],
      "metadata": {
        "id": "yiXxKfZCKbse"
      },
      "execution_count": null,
      "outputs": []
    },
    {
      "cell_type": "code",
      "source": [
        "# Commande table : définition d'une table de nombres\n",
        "b = table([[1,2],[3,4]])\n",
        "print(b)"
      ],
      "metadata": {
        "id": "lwiYZ-4KOCSm"
      },
      "execution_count": null,
      "outputs": []
    },
    {
      "cell_type": "code",
      "source": [
        "# sommes et produit de deux tables de nombres:\n",
        "print(b + b)\n",
        "print(1 + b)\n",
        "print(4 - b)\n",
        "print(b*b)\n"
      ],
      "metadata": {
        "id": "j0dtH0OoOKWO"
      },
      "execution_count": null,
      "outputs": []
    },
    {
      "cell_type": "code",
      "source": [
        "# Commande \"repete\" :\n",
        "c = repete(a, 3) # 3 fois\n",
        "print(c)"
      ],
      "metadata": {
        "id": "RZUVy2mILNq_"
      },
      "execution_count": null,
      "outputs": []
    },
    {
      "cell_type": "code",
      "source": [
        "# Commande \"transpose\" :\n",
        "d = transpose(c) # échange les lignes et les colonnes\n",
        "print(d)"
      ],
      "metadata": {
        "id": "TQ_kB1yoOf6e"
      },
      "execution_count": null,
      "outputs": []
    },
    {
      "cell_type": "code",
      "source": [
        "# commande suite_arithmetique:\n",
        "n = 10\n",
        "e = suite_arithmetique(n)\n",
        "\n",
        "print(e)"
      ],
      "metadata": {
        "id": "cq6F-16afl28"
      },
      "execution_count": null,
      "outputs": []
    },
    {
      "cell_type": "markdown",
      "source": [
        "**Question n°1** : A partir des exemples ci-dessus, construire la table d'addition et la table de multiplication des nombres de 0 à 20."
      ],
      "metadata": {
        "id": "i8dapNNSOffu"
      }
    },
    {
      "cell_type": "code",
      "source": [],
      "metadata": {
        "id": "9BlkiufdRaVU"
      },
      "execution_count": null,
      "outputs": []
    },
    {
      "cell_type": "markdown",
      "source": [
        "## **Exercice n°2** : une image en noir et blanc"
      ],
      "metadata": {
        "id": "iT-2-refa52X"
      }
    },
    {
      "cell_type": "markdown",
      "source": [
        "Dans cet exercice, on retrouve le jeu d'images de chiffres manuscrits (MNIST) sur lequel\n",
        "a travaillé Yann Lecun, l'un des \"pères fondateurs\" du Deep Learning."
      ],
      "metadata": {
        "id": "cpDaUMhQyU6z"
      }
    },
    {
      "cell_type": "code",
      "source": [
        "# commande preleve_image_MNIST : prélève la n ième image de MNIST\n",
        "# et la cible correspondante (label)\n",
        "\n",
        "image, label = preleve_image_MNIST(46) # c'est une image de taille 28 x 28\n",
        "\n",
        "print(label)\n",
        "afficher(image)"
      ],
      "metadata": {
        "id": "qajZt0ZIbo4P"
      },
      "execution_count": null,
      "outputs": []
    },
    {
      "cell_type": "markdown",
      "source": [
        "**Question n°1** : Avec une boucle *for*, appliquer *preleve_image_MNIST* pour afficher les 100 premières cibles. Afficher l'image d'un sept."
      ],
      "metadata": {
        "id": "CCaYEDjahRC8"
      }
    },
    {
      "cell_type": "code",
      "source": [],
      "metadata": {
        "id": "A377MXNziPws"
      },
      "execution_count": null,
      "outputs": []
    },
    {
      "cell_type": "markdown",
      "source": [
        "**Question n°2** : Pouvez-vous afficher un 7 noir sur fond blanc ?"
      ],
      "metadata": {
        "id": "zkPEYFzBifQV"
      }
    },
    {
      "cell_type": "code",
      "source": [],
      "metadata": {
        "id": "xStsa4nDiDvM"
      },
      "execution_count": null,
      "outputs": []
    },
    {
      "cell_type": "markdown",
      "source": [
        "**Question n°3** : Pouvez-vous construire une image du symbole $\\infty$ ? Et une image du nombre 88 ?"
      ],
      "metadata": {
        "id": "OcsMD2l-hVIm"
      }
    },
    {
      "cell_type": "code",
      "source": [],
      "metadata": {
        "id": "sZzR-zp5kkzq"
      },
      "execution_count": null,
      "outputs": []
    },
    {
      "cell_type": "markdown",
      "source": [
        "## **Exercice n°3** : une image couleur"
      ],
      "metadata": {
        "id": "A2RKBqeZID7w"
      }
    },
    {
      "cell_type": "code",
      "source": [
        "# Commande ouvrir et commande afficher :\n",
        "chemin_image = 'intro-ia-secondes/images/Carabus.jpg'\n",
        "image = ouvrir(chemin_image)\n",
        "\n",
        "afficher(image)"
      ],
      "metadata": {
        "id": "C--bszO5TAjD"
      },
      "execution_count": null,
      "outputs": []
    },
    {
      "cell_type": "code",
      "source": [
        "# C'est une image RGB :\n",
        "\n",
        "print(image[0]) # table des Rouges\n",
        "# print(image[1]) # table des Verts\n",
        "# print(image[2]) # table des Verts"
      ],
      "metadata": {
        "id": "tCsjyszHWOOh"
      },
      "execution_count": null,
      "outputs": []
    },
    {
      "cell_type": "code",
      "source": [
        "# Suppression des rouges :\n",
        "image[0] = transposition(image[0])\n",
        "afficher(image)"
      ],
      "metadata": {
        "id": "G630CHD3XxjJ"
      },
      "execution_count": null,
      "outputs": []
    },
    {
      "cell_type": "markdown",
      "source": [
        "**Question n° 1** : Au lieu de transposer le canal des rouges, pouvez-vous supprimer le canal des rouges ?"
      ],
      "metadata": {
        "id": "taomDSlDvaGt"
      }
    },
    {
      "cell_type": "code",
      "source": [],
      "metadata": {
        "id": "1rtkXKG9Xc-p"
      },
      "execution_count": null,
      "outputs": []
    },
    {
      "cell_type": "markdown",
      "source": [
        "**Question n° 2** : Pouvez-vous au contraire, n'afficher que le canal des rouges ?"
      ],
      "metadata": {
        "id": "cThRllbXRzZV"
      }
    },
    {
      "cell_type": "code",
      "source": [],
      "metadata": {
        "id": "jecO4mCBRyBs"
      },
      "execution_count": null,
      "outputs": []
    },
    {
      "cell_type": "markdown",
      "source": [
        "**Question n°3** : Pouvez-vous transformer l'image RGB en une image en noir et blanc ?"
      ],
      "metadata": {
        "id": "wPQtuLG6wC2N"
      }
    },
    {
      "cell_type": "code",
      "source": [],
      "metadata": {
        "id": "O3KyE7AgVaPT"
      },
      "execution_count": null,
      "outputs": []
    },
    {
      "cell_type": "markdown",
      "source": [
        "## **Exercice n°4** : passer une image en entrée d'un \"très gros réseau\""
      ],
      "metadata": {
        "id": "6KGpCghIzqPk"
      }
    },
    {
      "cell_type": "markdown",
      "source": [
        "Maintenant que la représentation numérique d'une image sous forme de tables de nombres est bien comprise, voyons comment on applique un gros réseau de neurones dessus pour de la classification."
      ],
      "metadata": {
        "id": "Dyjbcvhf1BdL"
      }
    },
    {
      "cell_type": "code",
      "source": [
        "# chargeons un modèle :\n",
        "from torchvision import models, transforms\n",
        "model = models.vgg16(pretrained=True)"
      ],
      "metadata": {
        "id": "6CwoxMaS1XAC"
      },
      "execution_count": null,
      "outputs": []
    },
    {
      "cell_type": "code",
      "source": [
        "# Voyons sous le capot :\n",
        "print(model)"
      ],
      "metadata": {
        "id": "HGlZkD_G25ty"
      },
      "execution_count": null,
      "outputs": []
    },
    {
      "cell_type": "markdown",
      "source": [
        "**Question n°1** : A votre avis, quoi correspondent le premier chiffre (3) et le dernier chiffre visible (1000) ?"
      ],
      "metadata": {
        "id": "uGGKA22v3I4a"
      }
    },
    {
      "cell_type": "markdown",
      "source": [],
      "metadata": {
        "id": "LW8antTP34NR"
      }
    },
    {
      "cell_type": "markdown",
      "source": [
        "**Question n°2** : Le VGG est fourni par la bibliothèque pytorch. Pouvez-vous compter le nombre de poids du réseau facilement ?"
      ],
      "metadata": {
        "id": "Yss6hwpO3675"
      }
    },
    {
      "cell_type": "code",
      "source": [
        "# Get the total number of parameters in the model\n",
        "total_params = sum(p.numel() for p in model.parameters())\n",
        "\n",
        "# Print the total number of parameters\n",
        "print(f\"Total Parameters: {total_params}\")"
      ],
      "metadata": {
        "colab": {
          "base_uri": "https://localhost:8080/"
        },
        "id": "dswgF47x6fRQ",
        "outputId": "f1c6f7e4-8d66-4962-9772-56e3da9302b2"
      },
      "execution_count": 7,
      "outputs": [
        {
          "output_type": "stream",
          "name": "stdout",
          "text": [
            "Total Parameters: 138357544\n"
          ]
        }
      ]
    },
    {
      "cell_type": "markdown",
      "source": [
        "**Question n°3** : Reprenons la table \"image\" obtenue à partir de Carabus.jpg. Elle est au format numpy.array. Essayer de la donner en entrée du réseau et d'obtenir la classe la plus probable. \\\n",
        "\n",
        "**NB** : La liste des classes est disponible [ici](https://gist.github.com/yrevar/942d3a0ac09ec9e5eb3a)."
      ],
      "metadata": {
        "id": "g6HIaoFn3aox"
      }
    },
    {
      "cell_type": "code",
      "source": [
        "chemin_image = 'intro-ia-secondes/images/Carabus.jpg'\n",
        "image = ouvrir(chemin_image)"
      ],
      "metadata": {
        "id": "SAf8QP_T7wKv"
      },
      "execution_count": 10,
      "outputs": []
    },
    {
      "cell_type": "code",
      "source": [],
      "metadata": {
        "id": "okVUv4sRSYKE"
      },
      "execution_count": null,
      "outputs": []
    },
    {
      "cell_type": "markdown",
      "source": [
        "**Question n°4** : Pouvez-vous donner la seconde classe la plus probable ?"
      ],
      "metadata": {
        "id": "DDwi1I_Y-IqG"
      }
    },
    {
      "cell_type": "code",
      "source": [],
      "metadata": {
        "id": "yZXNLwTf-HS_"
      },
      "execution_count": null,
      "outputs": []
    },
    {
      "cell_type": "markdown",
      "source": [
        "**Question n°5** : Si l'on perd ou si l'on transpose un canal, le réseau s'en sort-il toujours ?"
      ],
      "metadata": {
        "id": "L-bulQPqRfnW"
      }
    },
    {
      "cell_type": "code",
      "source": [],
      "metadata": {
        "id": "YeSSEApSSY0M"
      },
      "execution_count": null,
      "outputs": []
    },
    {
      "cell_type": "markdown",
      "source": [
        "## **Exercice n°5**: Tokeniser un texte avant de le traduire."
      ],
      "metadata": {
        "id": "QcimwLZbSF_K"
      }
    },
    {
      "cell_type": "markdown",
      "source": [
        "Maintenant, voyons la façon dont sont numérisés les textes avant d'être donnés en entrée d'un réseau de neurone comme GPT ou autre (ici : le modèle [Helsinki-NLP](https://huggingface.co/Helsinki-NLP)). L'idée est de découper chaque phrase en éléments de bases qui sont chacun associé à un nombre entier. On parle de \"tokénisation\"."
      ],
      "metadata": {
        "id": "472K4YmTxDst"
      }
    },
    {
      "cell_type": "code",
      "source": [
        "# On charge le traducteur complet et on définit le tokeniseur, le modèle et un detokeniseur\n",
        "# qui permet de repasser d'une suite de token à une phrase :\n",
        "traducteur = pipeline(\"translation\", model=\"Helsinki-NLP/opus-mt-fr-en\")\n",
        "\n",
        "tokeniseur = lambda texte : traducteur.tokenizer(texte, return_tensors='pt')['input_ids']\n",
        "detokeniseur = lambda tokens : traducteur.tokenizer.batch_decode(tokens, skip_special_tokens=True)[0]\n",
        "reseau = lambda tokens : traducteur.model.eval().generate(tokens)"
      ],
      "metadata": {
        "id": "HFS9ybOFIR0Y"
      },
      "execution_count": null,
      "outputs": []
    },
    {
      "cell_type": "code",
      "source": [
        "a = \"Question 1 : \\n | Des entrées      différentes | \\n | peuvent-elles conduire | \\n | aux mêmes tokens ?| \"\n",
        "print(a)\n",
        "print(tokeniseur(a))\n",
        "print(detokeniseur(tokeniseur(a)))\n",
        "print(tokeniseur(detokeniseur(tokeniseur(a))))"
      ],
      "metadata": {
        "id": "9Uu9rJGrM6N_"
      },
      "execution_count": null,
      "outputs": []
    },
    {
      "cell_type": "code",
      "source": [
        "# Le tokeniseur prend en entrée une phrase, et fournit en sortie une suite de nombres :\n",
        "\n",
        "tokeniseur(\"Question 2 : quel est l'élément de texte associé au token n°99 ?\")"
      ],
      "metadata": {
        "id": "spJBTa_WLaYD"
      },
      "execution_count": null,
      "outputs": []
    },
    {
      "cell_type": "code",
      "source": [
        "tokeniseur(\"Question 3 : un token peut-il correspondre à un mot entier ?\")"
      ],
      "metadata": {
        "id": "bisYWvvIT0rM"
      },
      "execution_count": null,
      "outputs": []
    },
    {
      "cell_type": "markdown",
      "source": [
        "Pour traduire un texte en anglais, il suffit de fournir la suite de tokens au modèle.\n",
        "Par exemple :"
      ],
      "metadata": {
        "id": "w6JCxhGXOXU_"
      }
    },
    {
      "cell_type": "code",
      "source": [
        "tokens = tokeniseur(\"Question 4 : pour un input donné, le modèle répond-il toujours la même chose ?\")\n",
        "new_tokens = reseau(tokens)\n",
        "traduction = detokeniseur(new_tokens)\n",
        "\n",
        "print(traduction)"
      ],
      "metadata": {
        "id": "tPELo9VuJ7EJ"
      },
      "execution_count": null,
      "outputs": []
    },
    {
      "cell_type": "markdown",
      "source": [
        "**Question 5**: Pouvez-vous faire boguer ce traducteur ?"
      ],
      "metadata": {
        "id": "jAjPR14IMkho"
      }
    },
    {
      "cell_type": "markdown",
      "source": [
        "**Bilan**\n",
        "* Les réseaux de neurones actuels peuvent prendre en entrée des images ou des textes représentés par des tables ou des suites de nombres.\n",
        "* Par exemple, une image RGB est un empilement de trois tables : la première contient les intensités associées au rouge, la seconde, celles au vert et la troisième au bleu.\n",
        "* Une tokénisation est une manière de nettoyer,puis de découper un texte en éléments de petite taille et enfin d'associer chaque élément à un entier. En général, ces éléments sont plus petits que des mots mais plus longs que de simples caractères."
      ],
      "metadata": {
        "id": "lkW74KENQT2-"
      }
    }
  ]
}