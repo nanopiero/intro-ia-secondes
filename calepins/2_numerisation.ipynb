{
  "nbformat": 4,
  "nbformat_minor": 0,
  "metadata": {
    "colab": {
      "provenance": []
    },
    "kernelspec": {
      "name": "python3",
      "display_name": "Python 3"
    },
    "accelerator": "GPU",
    "gpuClass": "standard"
  },
  "cells": [
    {
      "cell_type": "markdown",
      "source": [
        "#Entretien technique - mai/juin 2024"
      ],
      "metadata": {
        "id": "XptqD6dlSznc"
      }
    },
    {
      "cell_type": "markdown",
      "source": [
        "**Consignes :**\n",
        "\n",
        "- vous pouvez utiliser n'importe quelle ressource en ligne pour aborder les exercices.\n",
        "- Les exercices sont indépendants, alors ne bloquez pas 15 minutes sur une question.\n",
        "- Soignez votre code au mieux. Cependant, il n'est pas nécessaire de le commenter dans le détail : soyez concis.\n",
        "- **A la fin des 30 minutes, envoyez-nous par mail une copie du calepin.**"
      ],
      "metadata": {
        "id": "_CACBFsndOCo"
      }
    },
    {
      "cell_type": "markdown",
      "source": [
        "**Clonage du dépôt git :**"
      ],
      "metadata": {
        "id": "sm4Teg6KSrHV"
      }
    },
    {
      "cell_type": "code",
      "source": [
        "! git clone https://github.com/nanopiero/apprentissage_enonce.git"
      ],
      "metadata": {
        "id": "s5yFinolSveq"
      },
      "execution_count": null,
      "outputs": []
    },
    {
      "cell_type": "code",
      "source": [
        "! ls apprentissage/data"
      ],
      "metadata": {
        "id": "PILoEdY-UaIl"
      },
      "execution_count": null,
      "outputs": []
    },
    {
      "cell_type": "markdown",
      "source": [
        "**Exo n°1 (bibliothèque numpy, fonctions, code objet)**"
      ],
      "metadata": {
        "id": "gwINWkvtW5Wt"
      }
    },
    {
      "cell_type": "markdown",
      "source": [
        "**A.** En modifiant le code suivant, construire une matrice *M* de 10000 lignes et 100 colonnes dont les composantes sont prises aléatoirement dans l'intervalle [5,10]."
      ],
      "metadata": {
        "id": "q0U8SU_nXp_f"
      }
    },
    {
      "cell_type": "code",
      "source": [
        "import numpy as np\n",
        "M = np.random.rand(2,5)\n",
        "M"
      ],
      "metadata": {
        "id": "Dtw_661bY-bT"
      },
      "execution_count": null,
      "outputs": []
    },
    {
      "cell_type": "code",
      "source": [
        "M = 5 + 5 * np.random.rand(10_000, 100)\n",
        "M[0, :10]"
      ],
      "metadata": {
        "id": "9K7kwQ1diQf3"
      },
      "execution_count": null,
      "outputs": []
    },
    {
      "cell_type": "markdown",
      "source": [
        "**B.** Définir une fonction *norme_vecteur* qui prend en entrée un vecteur de taille 100 et en calcule la norme euclidienne à partir des fonctions de base de numpy."
      ],
      "metadata": {
        "id": "MJe-E504Xrri"
      }
    },
    {
      "cell_type": "code",
      "source": [
        "def norme_vecteur(vecteur):\n",
        "  \"\"\"\n",
        "  calcule la norme euclidienne\n",
        "  \"\"\"\n",
        "  return np.sqrt(np.sum(vecteur**2))\n",
        "\n",
        "# Test\n",
        "norme_vecteur(M[0,:])"
      ],
      "metadata": {
        "id": "MWuIfjMOhHY_"
      },
      "execution_count": null,
      "outputs": []
    },
    {
      "cell_type": "markdown",
      "source": [
        "**C.** Parcourir les lignes de *M* et leur appliquer la fonction *norme_vecteur*. Stocker les normes dans une liste."
      ],
      "metadata": {
        "id": "9Y4jmf0EXsE3"
      }
    },
    {
      "cell_type": "code",
      "source": [
        "L = []\n",
        "for i in range(10000):\n",
        "  L.append(norme_vecteur(M[i,:]))\n",
        "\n",
        "print(L[:10])"
      ],
      "metadata": {
        "id": "UnC8An2ybY98"
      },
      "execution_count": null,
      "outputs": []
    },
    {
      "cell_type": "markdown",
      "source": [
        "**D.** Tracer un histogramme des normes obtenues"
      ],
      "metadata": {
        "id": "UHjs3-Cqbp4-"
      }
    },
    {
      "cell_type": "code",
      "source": [
        "import matplotlib.pyplot as plt\n",
        "\n",
        "plt.hist(L)"
      ],
      "metadata": {
        "collapsed": true,
        "id": "M0X82v_jisEv"
      },
      "execution_count": null,
      "outputs": []
    },
    {
      "cell_type": "markdown",
      "source": [
        "**Exo n°2 (code objet, traitement d'image)**"
      ],
      "metadata": {
        "id": "1KLoEYWZW-5Q"
      }
    },
    {
      "cell_type": "markdown",
      "source": [
        "**A.** Appliquer le code suivant à *data/image.jpg*"
      ],
      "metadata": {
        "id": "qO7Yj-IUcFAC"
      }
    },
    {
      "cell_type": "code",
      "source": [
        "from PIL import Image\n",
        "import numpy as np\n",
        "import matplotlib.pyplot as plt\n",
        "import copy\n",
        "\n",
        "class ImageTransform:\n",
        "    def __init__(self, image_path):\n",
        "        self.image = Image.open(image_path)\n",
        "\n",
        "    def get_numpy_channels(self):\n",
        "        return np.array(self.image)\n",
        "\n",
        "    def set_channels(self, np_array):\n",
        "        self.image = Image.fromarray(np_array)\n",
        "\n",
        "    def display_image(self, width_cm=15):\n",
        "        dpi = 96  # Default DPI for matplotlib\n",
        "        width_inches = width_cm / 2.54\n",
        "        height_inches = (self.image.height / self.image.width) * width_inches\n",
        "        fig, ax = plt.subplots(figsize=(width_inches, height_inches), dpi=dpi)\n",
        "        ax.imshow(self.image)\n",
        "        ax.axis('off')\n",
        "        plt.show()\n",
        "\n",
        "    def switch_channels(self, channel_tuple):\n",
        "        # A compléter\n",
        "        pass\n",
        "\n",
        "\n",
        "# Example Usage\n",
        "# image_transform = ImageTransform('path/to/image.jpg')\n",
        "# image_transform.display_image()"
      ],
      "metadata": {
        "id": "fOOoiWN7npO_"
      },
      "execution_count": null,
      "outputs": []
    },
    {
      "cell_type": "code",
      "source": [
        "from PIL import Image\n",
        "import numpy as np\n",
        "import matplotlib.pyplot as plt\n",
        "import copy\n",
        "\n",
        "class ImageTransform:\n",
        "    def __init__(self, image_path):\n",
        "        self.image = Image.open(image_path)\n",
        "\n",
        "    def get_numpy_channels(self):\n",
        "        return np.array(self.image)\n",
        "\n",
        "    def set_channels(self, np_array):\n",
        "        self.image = Image.fromarray(np_array)\n",
        "\n",
        "    def display_image(self, width_cm=15):\n",
        "        dpi = 96  # Default DPI for matplotlib\n",
        "        width_inches = width_cm / 2.54\n",
        "        height_inches = (self.image.height / self.image.width) * width_inches\n",
        "        fig, ax = plt.subplots(figsize=(width_inches, height_inches), dpi=dpi)\n",
        "        ax.imshow(self.image)\n",
        "        ax.axis('off')\n",
        "        plt.show()\n",
        "\n",
        "    def switch_channels(self, channel_tuple):\n",
        "        np_array = self.get_numpy_channels()\n",
        "        # channela = np_array[...,channel_tuple[0]]\n",
        "        channela = copy.deepcopy(np_array[...,channel_tuple[0]])\n",
        "        channelb = np_array[...,channel_tuple[1]]\n",
        "        np_array[...,channel_tuple[0]] = channelb\n",
        "        np_array[...,channel_tuple[1]] = channela\n",
        "        self.set_channels(np_array)\n"
      ],
      "metadata": {
        "id": "VFg179wclMD-"
      },
      "execution_count": null,
      "outputs": []
    },
    {
      "cell_type": "code",
      "source": [
        "! ls"
      ],
      "metadata": {
        "id": "EIteR6XhlnkH"
      },
      "execution_count": null,
      "outputs": []
    },
    {
      "cell_type": "code",
      "source": [
        "path_to_image = 'apprentissage/data/image.jpg'\n",
        "image_transform = ImageTransform(path_to_image)\n",
        "image_transform.display_image()\n",
        "channels = image_transform.get_numpy_channels()\n",
        "print(channels.shape)"
      ],
      "metadata": {
        "id": "VTqP2AXUlQzW"
      },
      "execution_count": null,
      "outputs": []
    },
    {
      "cell_type": "markdown",
      "source": [
        "**B.** Compléter la méthode \"switch_channel\" pour intervertir les canaux rouge et bleu. Visualiser.   "
      ],
      "metadata": {
        "id": "O5ie6Q6HcftM"
      }
    },
    {
      "cell_type": "code",
      "source": [
        "image_transform.set_channels(channels)\n",
        "image_transform.switch_channels((0, 2))\n",
        "image_transform.display_image()"
      ],
      "metadata": {
        "id": "edZHpdm2oSQX"
      },
      "execution_count": null,
      "outputs": []
    },
    {
      "cell_type": "markdown",
      "source": [
        "**Exo n°3 (csv, pandas, statistiques de base)**"
      ],
      "metadata": {
        "id": "Qt1Wy0TrQeGT"
      }
    },
    {
      "cell_type": "markdown",
      "source": [
        "**A.** Charger temp_pointe_du_raz.csv (la bibliothèque pandas est conseillée). Convertir les températures en degré Celsius."
      ],
      "metadata": {
        "id": "P6l3YiygU-Vy"
      }
    },
    {
      "cell_type": "code",
      "source": [
        "import pandas as pd\n",
        "import matplotlib.pyplot as plt\n",
        "import numpy as np\n",
        "\n",
        "# Load the CSV file\n",
        "file_path = 'apprentissage/data/temp_pointe_du_raz.csv'\n",
        "df = pd.read_csv(file_path)"
      ],
      "metadata": {
        "id": "gCW8JiPQork_"
      },
      "execution_count": null,
      "outputs": []
    },
    {
      "cell_type": "code",
      "source": [
        "# Convert the temperature from Kelvin to Celsius\n",
        "df['temperature_celsius'] = df['temperature'] - 273.15\n",
        "# Handle NaN values by dropping themb\n",
        "# Print the first 100 values of temperature in Celsius\n",
        "print(df['temperature_celsius'].head(100))"
      ],
      "metadata": {
        "id": "1ZomSgWnqY9v"
      },
      "execution_count": null,
      "outputs": []
    },
    {
      "cell_type": "code",
      "source": [
        "# Handle NaN values by dropping them\n",
        "df = df.dropna()"
      ],
      "metadata": {
        "id": "7UxLBb1LyJPe"
      },
      "execution_count": null,
      "outputs": []
    },
    {
      "cell_type": "markdown",
      "source": [
        "**B.** Tracer la frise chronologique des températures."
      ],
      "metadata": {
        "id": "j_jx3Z8dWcrC"
      }
    },
    {
      "cell_type": "code",
      "source": [
        "# Display a chronological plot of the temperature for the N first values\n",
        "def plot_temperature(N):\n",
        "    plt.figure(figsize=(10, 5))\n",
        "    plt.plot(pd.to_datetime(df['date'], format='%Y%m%d%H%M%S')[:N], df['temperature_celsius'][:N])\n",
        "    plt.xlabel('Date')\n",
        "    plt.ylabel('Temperature (°C)')\n",
        "    plt.title(f'Chronological Plot of Temperature for the First {N} Values')\n",
        "    plt.show()\n",
        "\n",
        "plot_temperature(1000)"
      ],
      "metadata": {
        "id": "81eEuzj5qj6P"
      },
      "execution_count": null,
      "outputs": []
    },
    {
      "cell_type": "markdown",
      "source": [
        "**C.** Déterminer la moyenne, la médiane, et l'intervalle interquantile de la série statistique."
      ],
      "metadata": {
        "id": "tZuvPKGVV36w"
      }
    },
    {
      "cell_type": "code",
      "source": [
        "# Print the mean, median and the difference between the 1st and 3rd quartiles\n",
        "mean_temp = df['temperature_celsius'].mean()\n",
        "median_temp = df['temperature_celsius'].median()\n",
        "q1 = df['temperature_celsius'].quantile(0.25)\n",
        "q3 = df['temperature_celsius'].quantile(0.75)\n",
        "iqr = q3 - q1\n",
        "\n",
        "print(f\"Mean Temperature: {mean_temp} °C\")\n",
        "print(f\"Median Temperature: {median_temp} °C\")\n",
        "print(f\"Interquartile Range (IQR): {iqr} °C\")"
      ],
      "metadata": {
        "id": "qz1RGBKyqp2_"
      },
      "execution_count": null,
      "outputs": []
    },
    {
      "cell_type": "markdown",
      "source": [
        "**D.** Y a-t-il une cyclicité dans la série ? Si oui la mettre en évidence."
      ],
      "metadata": {
        "id": "-uPpah_8Wmj1"
      }
    },
    {
      "cell_type": "code",
      "source": [
        "# Display the Fourier transform of the series, paying attention to the time axis\n",
        "# Display the Fourier transform of the series, paying attention to the time axis\n",
        "def plot_fourier_transform():\n",
        "    temperature_series = df['temperature_celsius']\n",
        "    n = len(temperature_series)\n",
        "    fft = np.fft.fft(temperature_series - np.mean(temperature_series))\n",
        "    fft_freq = np.fft.fftfreq(n, d=1)  # Assuming the time step is 1 hour\n",
        "\n",
        "    plt.figure(figsize=(10, 5))\n",
        "    plt.plot(fft_freq[:n // 2], np.abs(fft)[:n // 2])\n",
        "    plt.xscale('log')\n",
        "    plt.xlim([1/120, 1/5])  # Limiting to 1/5 hours\n",
        "    plt.ylim([0, 40000])  # Limiting to 1/5 hours\n",
        "\n",
        "    # Highlight specific frequencies\n",
        "    highlighted_freqs = [1/48, 1/24, 1/12, 1/6]\n",
        "    for freq in highlighted_freqs:\n",
        "        plt.axvline(x=freq, color='red', linestyle='--')\n",
        "\n",
        "    plt.xlabel('Frequency (1/hour)')\n",
        "    plt.ylabel('Amplitude')\n",
        "    plt.title('Fourier Transform of Temperature Series')\n",
        "    plt.show()\n",
        "\n",
        "\n",
        "plot_fourier_transform()"
      ],
      "metadata": {
        "id": "odxNFTWjqwJv"
      },
      "execution_count": null,
      "outputs": []
    },
    {
      "cell_type": "markdown",
      "source": [
        "**Exo n°4 (json, dictionnaires, base de données)**"
      ],
      "metadata": {
        "id": "QJ578x0sXQdx"
      }
    },
    {
      "cell_type": "markdown",
      "source": [
        "**A.** Chargez le json *data/annotations.json* dans un dictionnaire python."
      ],
      "metadata": {
        "id": "CdF2H29HeH-4"
      }
    },
    {
      "cell_type": "code",
      "source": [
        "import json\n",
        "# Load the JSON file into a Python dictionary\n",
        "def load_json(file_path):\n",
        "    with open(file_path, 'r') as file:\n",
        "        data = json.load(file)\n",
        "    return data\n",
        "\n",
        "file_path = 'apprentissage/data/annotations.json'\n",
        "data = load_json(file_path)\n",
        "print(data)"
      ],
      "metadata": {
        "id": "66YMr9Vm7d8t"
      },
      "execution_count": null,
      "outputs": []
    },
    {
      "cell_type": "markdown",
      "source": [
        "**B.** Ce dictionnaire associe des noms d'images (clefs) à des métadonnées ('filename', 'size', 'file_attributes') et des annotations (dans 'regions').\n",
        "La plupart des images n'ont pas été annotées. Dans ce cas 'regions' est une liste vide. \\\n",
        "Supprimer toutes les clefs du dictionnaire pour lesquelles la sous-clef 'regions' est vide. Combien en reste-t-il ?   "
      ],
      "metadata": {
        "id": "CGCAq_9f719O"
      }
    },
    {
      "cell_type": "code",
      "source": [
        "# Suppress all keys if the regions subkey is empty\n",
        "def suppress_empty_regions(data):\n",
        "    keys_to_remove = [key for key, value in data.items() if not value['regions']]\n",
        "    for key in keys_to_remove:\n",
        "        del data[key]\n",
        "    return data\n",
        "\n",
        "\n",
        "# Suppress empty regions\n",
        "print(len(data))\n",
        "data = suppress_empty_regions(data)\n",
        "print(len(data))\n",
        "print(data)"
      ],
      "metadata": {
        "id": "NIZ8k8Bw8umd"
      },
      "execution_count": null,
      "outputs": []
    },
    {
      "cell_type": "markdown",
      "source": [
        "**C.** Importer la fonction *simplify_annotations* du module exos/utile.py. L'appliquer aux données."
      ],
      "metadata": {
        "id": "jzIEsfhQf5Q2"
      }
    },
    {
      "cell_type": "code",
      "source": [
        "import os\n",
        "os.chdir('apprentissage/exos')\n"
      ],
      "metadata": {
        "id": "R-vm5blZD7Al"
      },
      "execution_count": null,
      "outputs": []
    },
    {
      "cell_type": "code",
      "source": [
        "! cd apprentissage"
      ],
      "metadata": {
        "id": "Pu5fp9yLEYBG"
      },
      "execution_count": null,
      "outputs": []
    },
    {
      "cell_type": "code",
      "source": [
        "from utile import simplify_annotations\n",
        "data = simplify_annotations(data)"
      ],
      "metadata": {
        "id": "2LEbd2NoERaN"
      },
      "execution_count": null,
      "outputs": []
    },
    {
      "cell_type": "code",
      "source": [
        "print(data)"
      ],
      "metadata": {
        "id": "Zn2pxcKMENcm"
      },
      "execution_count": null,
      "outputs": []
    },
    {
      "cell_type": "markdown",
      "source": [
        "**D.** Stocker les données contenues dans la sortie de *simplify_annotations* dans une base de données sqlite locale. Cette base doit contenir trois colonnes 'name_image', 'size' et 'regions'. Chaque ligne correspondra à une image."
      ],
      "metadata": {
        "id": "4GAqLfKTeef5"
      }
    },
    {
      "cell_type": "code",
      "source": [
        "import sqlite3\n",
        "\n",
        "\n",
        "# Connect to SQLite database (or create it if it doesn't exist)\n",
        "db_path = 'image_data.db'\n",
        "conn = sqlite3.connect(db_path)\n",
        "cursor = conn.cursor()\n",
        "\n",
        "# Create table\n",
        "cursor.execute('''\n",
        "CREATE TABLE IF NOT EXISTS images (\n",
        "    name_image TEXT PRIMARY KEY,\n",
        "    size INTEGER,\n",
        "    regions TEXT\n",
        ")\n",
        "''')\n",
        "\n",
        "# Insert data into the table\n",
        "for name_image, attributes in data.items():\n",
        "    cursor.execute('''\n",
        "    INSERT INTO images (name_image, size, regions)\n",
        "    VALUES (?, ?, ?)\n",
        "    ''', (name_image, attributes['size'], attributes['regions']))\n",
        "\n",
        "# Commit the transaction\n",
        "conn.commit()\n",
        "\n",
        "# Close the connection\n",
        "conn.close()\n",
        "\n",
        "print(\"Data has been successfully inserted into the SQLite database.\")"
      ],
      "metadata": {
        "id": "s06bEVE-IAe-"
      },
      "execution_count": null,
      "outputs": []
    },
    {
      "cell_type": "code",
      "source": [
        "# Install sqlite3\n",
        "!apt-get update\n",
        "!apt-get install sqlite3 -y\n"
      ],
      "metadata": {
        "id": "G_8-EDeUIEHe"
      },
      "execution_count": null,
      "outputs": []
    },
    {
      "cell_type": "code",
      "source": [
        "! sqlite3 image_data.db \"SELECT * FROM images;\""
      ],
      "metadata": {
        "id": "ff6Vmoi8IgUW"
      },
      "execution_count": null,
      "outputs": []
    }
  ]
}