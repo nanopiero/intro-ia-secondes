{
  "nbformat": 4,
  "nbformat_minor": 0,
  "metadata": {
    "colab": {
      "provenance": []
    },
    "kernelspec": {
      "name": "python3",
      "display_name": "Python 3"
    },
    "accelerator": "GPU",
    "gpuClass": "standard"
  },
  "cells": [
    {
      "cell_type": "markdown",
      "source": [
        "# I) Un peu de Vocabulaire :\n",
        "\n",
        "* **Neurone formel** :\n",
        "  C'est une fonction mathématique $y = f(x)$ \\\n",
        "  qui combine une fonction affine suivie d'une \"non linéarité\" très simple.\n",
        "\n",
        "  Exemple : \\\n",
        "  $ x \\rightarrow max(0 , -0.1 \\times x + 0.5) $\n",
        "\n",
        "* **Poids** d'un neurone (on parle aussi de \"paramètres\") :\n",
        "Ce sont les coefficients de la fonction affine. Ici $-0.1$ et $0.5$.\n",
        "\n",
        "* **Réseau** de neurones : \\\n",
        "Combinaison de neurones.\n",
        "\n",
        "* **Entrée** d'un réseau : Le $x$ donné aux premiers neurones du réseau.\\\n",
        "x peut être réel, un couple de nombres, un tableau de nombres (image), etc.\n",
        "\n",
        "* **Sortie** : Le $y$ en sortie des derniers neurones du réseau.\\\n",
        "y aussi peut être un peu n'importe quoi : cela dépend de ce qu'on attend du réseau !\n",
        "\n",
        "* **Cible** : \\\n",
        "La valeur qu'on attend en sortie pour un $x$ donné.\n",
        "Pour l'obtenir sur le plus de $x$ possibles, il faut bien régler les poids.\n",
        "\n",
        "* **Apprentissage** : art de bien régler les poids à partir d'un jeu de données.\n",
        "\n",
        "* **Jeu de données** : plein de couples (entrée, cible) sur lesquels on règle les poids des neurones du réseau.\n"
      ],
      "metadata": {
        "id": "y8xmeHC8hDCd"
      }
    },
    {
      "cell_type": "markdown",
      "source": [
        "# II) Réseaux de neurones : quelques dates\n"
      ],
      "metadata": {
        "id": "PX_gqQgNmz_J"
      }
    },
    {
      "cell_type": "markdown",
      "source": [
        "* 1950's : Apprentissage d'un neurone unique\n",
        "\n",
        "* 1998 : Premiers réseaux efficaces. http://yann.lecun.com/exdb/lenet/index.html\n",
        "\n",
        "* 2009 : Le projet ImageNet. https://www.image-net.org/index.php \\\n",
        "\n",
        "* 2012 : Le challenge ILSVRC.  https://www.image-net.org/challenges/LSVRC/2012/index.php\n",
        "    \n",
        "    - entrées : images d'objets\n",
        "    - cibles : numéro de la classe de l'objet\n",
        "\n",
        "* 2015 : ResNet https://arxiv.org/abs/1512.03385\n",
        "\n",
        "* 2017 : Transformers - Attention is all you need https://www.youtube.com/watch?v=dsxtImDVMig"
      ],
      "metadata": {
        "id": "_CACBFsndOCo"
      }
    },
    {
      "cell_type": "markdown",
      "source": [
        "## III) L'état de l'art"
      ],
      "metadata": {
        "id": "DsPG1-CZwwS1"
      }
    },
    {
      "cell_type": "markdown",
      "source": [
        "* Pour lire : https://paperswithcode.com/ \\\n",
        "  - dans le classement sur le jeu ImageNet, on retrouve ResNet\n",
        "  - le score donnée sur la figure est le \"top-1 accuracy\"\n",
        "\n",
        "* Pour pratiquer : https://huggingface.co/"
      ],
      "metadata": {
        "id": "V2RY5xKkxEDl"
      }
    }
  ]
}