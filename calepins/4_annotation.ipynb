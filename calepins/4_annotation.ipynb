{
  "cells": [
    {
      "cell_type": "markdown",
      "id": "766fdc31",
      "metadata": {},
      "source": [
        "# Annotation d'images : construire un jeu de données pour la météo"
      ]
    },
    {
      "cell_type": "markdown",
      "id": "e610275b",
      "metadata": {},
      "source": [
        "Consignes : \n",
        "\n",
        "    - avec firefox, ouvrir le site http://produits-composites.meteo.fr/CameraIA/ANNOTATION/maquettes_webcams/NEIGE/\n",
        "    - sur le bureau, créer un dossier et nommer le \"annotation\".\n",
        "    - dans le dossier \"annotation\" créer trois sous-dossiers et les nommer :\n",
        "        - \"fausse_alarme\"\n",
        "        - \"non_detection\"\n",
        "        - \"paire_mal_ordonnee\"\n",
        "\n",
        "    - dans firefox, cliquer sur l'icône en haut à droite, puis \"Paramètres\". \\\n",
        "    Dans la rubrique fichiers et applications / téléchargements, sélectionner le dossier \"annotation\": c'est ici que seront téléchargées vos images.\n",
        "    - choisir vos 5 départements préférés (mais éviter ceux qu'ont choisi les autres :-))\n",
        "    - cliquer sur les caméras de ces détpartments. Annoter les images mal traitées par le réseau de neurones (voir démo).\n",
        "    \n",
        "A la fin :\n",
        "    - clic droit sur le dossier \"annotation\"\n",
        "    - renommer \"annotation_31-27-84-12-10\"\n",
        "    - clic droit, 7-zip, ajouter à l'archive\n",
        "    - envoyer à pierre.lepetit@meteo.fr via l'adresse gmail eleveenmX@meteo.fr\n",
        "\n",
        "Merci !!! "
      ]
    }
  ],
  "metadata": {
    "colab": {
      "provenance": []
    },
    "kernelspec": {
      "display_name": "Python 3 (ipykernel)",
      "language": "python",
      "name": "python3"
    },
    "language_info": {
      "codemirror_mode": {
        "name": "ipython",
        "version": 3
      },
      "file_extension": ".py",
      "mimetype": "text/x-python",
      "name": "python",
      "nbconvert_exporter": "python",
      "pygments_lexer": "ipython3",
      "version": "3.9.7"
    }
  },
  "nbformat": 4,
  "nbformat_minor": 5
}
